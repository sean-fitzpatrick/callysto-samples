{
 "cells": [
  {
   "cell_type": "markdown",
   "metadata": {},
   "source": [
    "![logo](https://callysto.ca/wp-content/uploads/2018/06/Callysto_Notebook-Banner_Top_06.06.18.jpg)"
   ]
  },
  {
   "cell_type": "code",
   "execution_count": 1,
   "metadata": {},
   "outputs": [
    {
     "data": {
      "text/html": [
       "\n",
       "<script>\n",
       "  function code_toggle() {\n",
       "    if (code_shown){\n",
       "      $('div.input').hide('500');\n",
       "      $('#toggleButton').val('Show Code')\n",
       "    } else {\n",
       "      $('div.input').show('500');\n",
       "      $('#toggleButton').val('Hide Code')\n",
       "    }\n",
       "    code_shown = !code_shown\n",
       "  }\n",
       "\n",
       "  $( document ).ready(function(){\n",
       "    code_shown=false;\n",
       "    $('div.input').hide()\n",
       "  });\n",
       "</script>\n",
       "<form action=\"javascript:code_toggle()\"><input type=\"submit\" id=\"toggleButton\" value=\"Show Code\"></form>"
      ],
      "text/plain": [
       "<IPython.core.display.HTML object>"
      ]
     },
     "metadata": {},
     "output_type": "display_data"
    }
   ],
   "source": [
    "%%html\n",
    "\n",
    "<script>\n",
    "  function code_toggle() {\n",
    "    if (code_shown){\n",
    "      $('div.input').hide('500');\n",
    "      $('#toggleButton').val('Show Code')\n",
    "    } else {\n",
    "      $('div.input').show('500');\n",
    "      $('#toggleButton').val('Hide Code')\n",
    "    }\n",
    "    code_shown = !code_shown\n",
    "  }\n",
    "\n",
    "  $( document ).ready(function(){\n",
    "    code_shown=false;\n",
    "    $('div.input').hide()\n",
    "  });\n",
    "</script>\n",
    "<form action=\"javascript:code_toggle()\"><input type=\"submit\" id=\"toggleButton\" value=\"Show Code\"></form>"
   ]
  },
  {
   "cell_type": "code",
   "execution_count": 2,
   "metadata": {},
   "outputs": [],
   "source": [
    "import matplotlib.pyplot as plt\n",
    "import ipywidgets as widgets\n",
    "import IPython"
   ]
  },
  {
   "cell_type": "markdown",
   "metadata": {},
   "source": [
    "# Multiplying Positive Fractions\n",
    "\n",
    "##### Grade 8 curriculum\n",
    "\n",
    "This is a notebook on how to multiply and divide by a fraction. In this notebook, you will learn how to multiply and divide between a whole number and a fraction, between two fractions, and between two mixed numbers.\n",
    "\n",
    "This notebook starts with pictures to help you see how multiplying and dividing by a fraction changes a number. Then has a few practice questions at the end. (But remember that this one notebook will not be enough, you'll need a lot more practice!)\n",
    "\n",
    "If you don't know what a numerator or denominator is, how to reduce fractions using common factors, or change a mixed number into a fraction then back again, please review those first before moving on to this notebook."
   ]
  },
  {
   "cell_type": "markdown",
   "metadata": {},
   "source": [
    "### Mutliplying a Whole Number with a fraction\n",
    "\n",
    "We know that repeated addition can be written as multiplication with whole numbers, which are also know as integers, and we can do the same for fractions.\n",
    "$$\\begin{align*}\n",
    "\\frac15 + \\frac15 + \\frac15 & = \\frac35 \\\\\n",
    "3 \\times \\frac15 & = \\frac35\n",
    "\\end{align*}$$\n",
    "\n",
    "What if we want $4 \\times \\frac23$? Then we are saying we want two thirds of \"4\", or 4 copies of two thirds, which is the same as eight copies of one-thirds, which is eight thirds. Lets look at what we did, but with numbers:\n",
    "$$\\begin{align*}\n",
    "4 \\times \\frac23 \\\\\n",
    "4 \\times \\frac23 & = 4 \\times (2 \\times \\frac13) \\\\\n",
    "4 \\times (2 \\times \\frac13) & = (4 \\times 2) \\times \\frac13 \\\\\n",
    "(4 \\times 2) \\times \\frac13 & = 8 \\times \\frac13 \\\\\n",
    "8 \\times \\frac13 & = \\frac83 \\\\\n",
    "\\frac83 & = 2 \\frac23\n",
    "\\end{align*}\n",
    "$$\n",
    "\n",
    "Did you notice how we never had to find a common denominator? That's because multiplication doesn't need a common denominator!\n",
    "\n",
    "<font color='red'>Tip! To remember which fractions need the common denominator, think of this:</font>\n",
    ">**AS** = **A**ddition and **S**ubtraction => Denominator needs to be **A**ll the **S**ame\n",
    ">\n",
    ">**DM** = **D**ivision and **M**ultiplication => Denominator **D**oesn't **M**atter\n",
    "\n",
    "\n",
    "### Multiplying two Fractions\n",
    "\n",
    "Multiplying 2 fractions is taking a small piece from an already small piece. For example, we have half a bar of a candy bar and want to eat half of what we have, but we want to know how much of the whole candy bar we are going to be eating. This word problem describes $\\frac{1}{2} \\times \\frac{1}{2}$ and we'll learn how to solve this."
   ]
  },
  {
   "cell_type": "markdown",
   "metadata": {},
   "source": [
    "### Visualizing multiplication of fractions\n",
    "\n",
    "Let's say we want to know what $\\frac15 \\times \\frac12$ is equal to.\n",
    "Let's show what's going on using the rectangles below.\n",
    "\n",
    "We cut our first rectangle vertically into 5 equal pieces, and select one of them (in blue) to show $\\frac15$. <br>\n",
    "We cut our second rectangle horizontally into 2 equal pieces, and select one of them (in yellow) to show $\\frac12$."
   ]
  },
  {
   "cell_type": "code",
   "execution_count": 3,
   "metadata": {},
   "outputs": [
    {
     "data": {
      "image/png": "[encoded data removed]",
      "text/plain": [
       "<matplotlib.figure.Figure at 0x7f53ff723518>"
      ]
     },
     "metadata": {},
     "output_type": "display_data"
    },
    {
     "data": {
      "image/png": "[encoded data removed]",
      "text/plain": [
       "<matplotlib.figure.Figure at 0x7f53ff723be0>"
      ]
     },
     "metadata": {},
     "output_type": "display_data"
    }
   ],
   "source": [
    "fig01 = plt.figure(figsize=(5,1))\n",
    "\n",
    "t_data01 = [['','','','','']]\n",
    "colors01 = [[\"b\",\"w\",\"w\",\"w\",\"w\"]]\n",
    "table01 = plt.table(cellText = t_data01,cellColours=colors01, loc='center')\n",
    "table01.scale(1, 2)\n",
    "\n",
    "plt.axis('off')\n",
    "plt.grid('off')\n",
    "\n",
    "fig02 = plt.figure(figsize=(5,1))\n",
    "\n",
    "t_data02 = [[''],['']]\n",
    "colors02 = [[\"yellow\"],[ \"w\"]]\n",
    "table02 = plt.table(cellText = t_data02,cellColours=colors02, loc='center')\n",
    "\n",
    "plt.axis('off')\n",
    "plt.grid('off')\n",
    "\n",
    "plt.show()"
   ]
  },
  {
   "cell_type": "markdown",
   "metadata": {},
   "source": [
    "Now let's lay one rectangle on top of the other. Do you see that there's now 10 pieces, and only one is green? The green piece represents the product of this multiplication. Therefore: $$\\frac15 \\times \\frac12 = \\frac{1}{10}$$"
   ]
  },
  {
   "cell_type": "code",
   "execution_count": 4,
   "metadata": {},
   "outputs": [
    {
     "data": {
      "image/png": "[encoded data removed]",
      "text/plain": [
       "<matplotlib.figure.Figure at 0x7f54389f8550>"
      ]
     },
     "metadata": {},
     "output_type": "display_data"
    }
   ],
   "source": [
    "fig = plt.figure(figsize=(5,1))\n",
    "\n",
    "t_data = (('','','','',''), ('','','','',''))\n",
    "colors = [[\"lime\",\"yellow\",\"yellow\",\"yellow\",\"yellow\"],[ \"b\",\"w\",\"w\",\"w\",\"w\"]]\n",
    "table = plt.table(cellText = t_data,cellColours=colors, loc='center')\n",
    "\n",
    "plt.axis('off')\n",
    "plt.grid('off')\n",
    "\n",
    "plt.show()"
   ]
  },
  {
   "cell_type": "markdown",
   "metadata": {},
   "source": [
    "The next image shows that if we had done things the other way around, using a vertical cut for $\\frac12$ and horizontal cuts for $\\frac15$, the result is the same. This gives us a way of visualizing the fact that the order in which we multiply our fractions does not matter.\n",
    "\n",
    "$$\\frac15 \\times \\frac12 = \\frac12 \\times \\frac15 = \\frac{1}{10}$$"
   ]
  },
  {
   "cell_type": "code",
   "execution_count": 5,
   "metadata": {},
   "outputs": [
    {
     "data": {
      "image/png": "[encoded data removed]",
      "text/plain": [
       "<matplotlib.figure.Figure at 0x7f53fd615c18>"
      ]
     },
     "metadata": {},
     "output_type": "display_data"
    }
   ],
   "source": [
    "fig2 = plt.figure(figsize=(2,2))\n",
    "\n",
    "t_data2 = (('',''), ('',''),('',''),('',''),('',''))\n",
    "colors2 = [[\"lime\",\"b\"],[ \"yellow\",\"w\"],[ \"yellow\",\"w\"],[ \"yellow\",\"w\"],[ \"yellow\",\"w\"]]\n",
    "table2 = plt.table(cellText = t_data2,cellColours=colors2, loc='center')\n",
    "\n",
    "plt.axis('off')\n",
    "plt.grid('off')\n",
    "\n",
    "plt.show()"
   ]
  },
  {
   "cell_type": "markdown",
   "metadata": {},
   "source": [
    "### Multiplying fractions, Method #1: sticking to the rules.\n",
    "\n",
    "In this example, we will work out the product of two fractions using the rule of multiplying the numerators together, then the denominators together, then reducing the fraction if possible at the end.\n",
    "\n",
    "What is the product of $\\frac34\\times\\frac29$? Let's walk through this step by step:\n",
    "\n",
    "##### Step 1:\n",
    "\n",
    "Multiply both numerators together to get the answer's numerator.\n",
    "\n",
    "   In this question, the numerators are 3 and 2, so we get $3\\times 2=6$ for the numerator of the product.\n",
    "\n",
    "##### Step 2:\n",
    "\n",
    "Multiply both denominators together to get the answer's denominator.\n",
    "\n",
    "   In this question, the denominators are 4 and 9, so we get $4\\times 9=36$ for the denominator of the product.\n",
    "\n",
    "##### Step 3:\n",
    "\n",
    "Reduce the fraction by dividing both the numerator and denominator by the greatest common factor (GCF). You already know how to do this!\n",
    "\n",
    "   Using the numbers from step 1 and step 2, we get $\\frac34\\times \\frac29 = \\frac{6}{36}$. But the GCF between 6 and 36 is not 1, it's 6. So when we reduce by dividing the top and bottom by 6, we get a final answer of $\\frac16$.\n",
    "\n",
    "##### And You're Done! "
   ]
  },
  {
   "cell_type": "markdown",
   "metadata": {},
   "source": [
    "This method seems like the most straight-forward answer, but what if you need to calculate really big numbers like $\\frac{5}{24} \\times \\frac{12}{13}$? You can use method #1, but then you need to do large multiplication, which is hard, and then you need to reduce after, which is also hard. But, there’s a way to make it easier! What if you reduce the fraction before doing the multiplication? That’s where method #2 comes in.\n",
    "\n",
    "### Method #2: A little less work.\n",
    "\n",
    "The second approach relies on the fact that order of multiplication doesn't matter, and that this is true not only for the product of the fractions, but for the products in the numerator and denominator as well! In other words, we are reducing the fraction before multiplying. Observe:\n",
    "\n",
    "$$\\hskip-36pt\\begin{align*}\n",
    "\\frac34\\times \\frac29 &= \\frac{3\\times 2}{4\\times 9} \\tag{Use the rule of Method #1}\\\\[5pt]\n",
    "&= \\frac{2\\times 3}{4\\times 9} \\tag{Change the order of multiplication in the numerator}\\\\[5pt]\n",
    "&= \\frac24\\times\\frac39 \\tag{The rule of Method #1, in reverse}\\\\[5pt]\n",
    "&= \\frac12\\times\\frac13 \\tag{Reduce fractions}\\\\[5pt]\n",
    "&= \\frac{1\\times 1}{2\\times 3}= \\frac16 \\tag{Multiplying one more time}\n",
    "\\end{align*}$$\n",
    "\n",
    "This might seem like more work (certainly, there are more steps), but what it tells us is that we can *cancel between fractions*. Let's repeat the above calculation, using this shortcut:\n",
    "$$\\hskip-60pt\\large \\frac34\\times\\frac29 = \\frac{^{\\color{red}{1}}3\\!\\!\\!\\!\\diagup}{_{\\color{blue}{2}}\\,4\\!\\!\\!\\!\\diagup}\\times\\frac{2\\!\\!\\!\\!\\diagup^{\\,\\,\\color{blue}{1}}}{9\\!\\!\\!\\!\\!\\diagup_{\\,\\,\\color{red}{3}}} = \\frac{1\\times 1}{2\\times 3}=\\frac16.$$\n",
    "\n",
    "What we've done here is cancel the 3 in $\\frac34$ with a factor of 3 in the $9=3\\times 3$ in $\\frac29$, and similarly, the 2 in $\\frac29$ with the 4 in $\\frac34$. The advantage of this approach is that the numbers we need to multiply are smaller, and (usually, if you were careful) no further reduction is needed. To recap:\n",
    "\n",
    "##### Step 1:\n",
    "\n",
    "Reduce fractions first, and you can reduce the numerator of one fraction with the denominator of the other by the same common factor.\n",
    "\n",
    "###### Step 2:\n",
    "\n",
    "Multiply both numerators together for the answer's numerator. Multiply both denominators together for the answer's denominator.\n",
    "\n",
    "##### Step 3:\n",
    "\n",
    "Though the fraction should already be reduced, check again in case it can be reduced again. Check to see if there's any other common factors.\n",
    "\n",
    "##### And You're Done!\n"
   ]
  },
  {
   "cell_type": "markdown",
   "metadata": {},
   "source": [
    "Let's do another example. This time, we multiply an integer, a whole number, by a fraction. Remember that any integer, or whole number, can be written as a fraction with a denominator equal to 1. First, we will use Method #1.\n",
    "\n",
    "$$\\hskip-60pt\\begin{align*}\n",
    "\\frac{4}{7} \\times 7 & = \\frac{4}{7} \\times \\frac{7}{1} \\tag{Turn integer into fraction}\\\\[5pt]\n",
    "\\frac{4}{7} \\times \\frac{7}{1} & = \\frac{28}{7} \\tag{Mulitply numerators and denominators}\\\\[5pt]\n",
    "\\frac{28}{7} & = 4 \\tag{Reduce the fraction}\\\\\n",
    "\\end{align*}$$"
   ]
  },
  {
   "cell_type": "markdown",
   "metadata": {},
   "source": [
    "Here's the same example again, but this time, using the second method:\n",
    "\n",
    "$$\\hskip-60pt\\begin{align*}\n",
    "\\frac{4}{7} \\times 7 & = \\frac{4}{7} \\times \\frac{7}{1} \\tag{Turn integer into fraction}\\\\[5pt]\n",
    "\\frac{4}{7\\!\\!\\!\\!\\diagup} \\times \\frac{7\\!\\!\\!\\!\\diagup}{1} & = \\frac{4}{1} \\times \\frac{1}{1} \\tag{Reduce numbers}\\\\[5pt]\n",
    "\\frac{4}{1} \\times \\frac{1}{1} & = 4 \\tag{Mulitply numerators and denominators}\n",
    "\\end{align*}$$"
   ]
  },
  {
   "cell_type": "markdown",
   "metadata": {},
   "source": [
    "Let's try one more example:\n",
    "\n",
    "$$\\hskip-60pt\\begin{align*}\n",
    "\\frac{4}{9} \\times \\frac{3}{5}\\\\\n",
    "\\frac{4}{9\\!\\!\\!\\!\\diagup} \\times \\frac{3\\!\\!\\!\\!\\diagup}{5} & = \\frac{4}{3} \\times \\frac{1}{5} \\tag{Reduce numbers}\\\\\n",
    "\\frac{4}{3} \\times \\frac{1}{5} & = \\frac{4}{15} \\tag{Mulitply numerators and denominators}\n",
    "\\end{align*}$$"
   ]
  },
  {
   "cell_type": "markdown",
   "metadata": {},
   "source": [
    "#### Here's an animation showing the two methods on the same problem.\n",
    "\n",
    "![animation](http://privatekgsmaths.weebly.com/uploads/1/4/9/3/14935550/8741366_orig.gif)"
   ]
  },
  {
   "cell_type": "markdown",
   "metadata": {},
   "source": [
    "## Practice with fraction multiplication\n",
    "\n",
    "It's time to try a few exercises. \n",
    "\n",
    "In the following problems, fill in the missing numbers with integers. (Whole numbers.) Watch out for reductions!\n",
    "\n",
    "<br>\n",
    "$$\\hskip-60pt\\frac{2}{7} \\times \\frac{3}{5} = \\frac{6}{\\color{Red}{a}}$$"
   ]
  },
  {
   "cell_type": "code",
   "execution_count": 6,
   "metadata": {},
   "outputs": [
    {
     "data": {
      "application/vnd.jupyter.widget-view+json": {
       "model_id": "557831857c504b548a93fe6b48d5b962",
       "version_major": 2,
       "version_minor": 0
      },
      "text/html": [
       "<p>Failed to display Jupyter Widget of type <code>IntText</code>.</p>\n",
       "<p>\n",
       "  If you're reading this message in the Jupyter Notebook or JupyterLab Notebook, it may mean\n",
       "  that the widgets JavaScript is still loading. If this message persists, it\n",
       "  likely means that the widgets JavaScript library is either not installed or\n",
       "  not enabled. See the <a href=\"https://ipywidgets.readthedocs.io/en/stable/user_install.html\">Jupyter\n",
       "  Widgets Documentation</a> for setup instructions.\n",
       "</p>\n",
       "<p>\n",
       "  If you're reading this message in another frontend (for example, a static\n",
       "  rendering on GitHub or <a href=\"https://nbviewer.jupyter.org/\">NBViewer</a>),\n",
       "  it may mean that your frontend doesn't currently support widgets.\n",
       "</p>\n"
      ],
      "text/plain": [
       "IntText(value=0, description='a =')"
      ]
     },
     "metadata": {},
     "output_type": "display_data"
    }
   ],
   "source": [
    "a = widgets.IntText(value=0, description='a =', disabled=False)\n",
    "\n",
    "IPython.display.display(a)\n",
    "def check(q):\n",
    "    IPython.display.clear_output(wait=False)\n",
    "    IPython.display.display(a)\n",
    "    if a.value == 35:\n",
    "        print(\"That's right! Great work!\")\n",
    "    else:\n",
    "        if a.value == 0:\n",
    "            pass\n",
    "        else:\n",
    "            print(\"Sorry, try again (and it was not a reducing error)\")\n",
    "\n",
    "a.observe(check, 'value')"
   ]
  },
  {
   "cell_type": "markdown",
   "metadata": {},
   "source": [
    "$$\\hskip-60pt\\frac{4}{9} \\times \\frac{1}{10} = \\frac{\\color{Blue}{b}}{45}$$"
   ]
  },
  {
   "cell_type": "code",
   "execution_count": 7,
   "metadata": {},
   "outputs": [
    {
     "data": {
      "application/vnd.jupyter.widget-view+json": {
       "model_id": "ab3c1ebc46e34857bf3627dcdbcadce9",
       "version_major": 2,
       "version_minor": 0
      },
      "text/html": [
       "<p>Failed to display Jupyter Widget of type <code>IntText</code>.</p>\n",
       "<p>\n",
       "  If you're reading this message in the Jupyter Notebook or JupyterLab Notebook, it may mean\n",
       "  that the widgets JavaScript is still loading. If this message persists, it\n",
       "  likely means that the widgets JavaScript library is either not installed or\n",
       "  not enabled. See the <a href=\"https://ipywidgets.readthedocs.io/en/stable/user_install.html\">Jupyter\n",
       "  Widgets Documentation</a> for setup instructions.\n",
       "</p>\n",
       "<p>\n",
       "  If you're reading this message in another frontend (for example, a static\n",
       "  rendering on GitHub or <a href=\"https://nbviewer.jupyter.org/\">NBViewer</a>),\n",
       "  it may mean that your frontend doesn't currently support widgets.\n",
       "</p>\n"
      ],
      "text/plain": [
       "IntText(value=0, description='b =')"
      ]
     },
     "metadata": {},
     "output_type": "display_data"
    }
   ],
   "source": [
    "b = widgets.IntText(value=0, description='b =', disabled=False)\n",
    "\n",
    "IPython.display.display(b)\n",
    "def check(q):\n",
    "    IPython.display.clear_output(wait=False)\n",
    "    IPython.display.display(b)\n",
    "    if b.value == 2:\n",
    "        print(\"That's right! Great work!\")\n",
    "    else:\n",
    "        if b.value == 0:\n",
    "            pass\n",
    "        if b.value == 4:\n",
    "            print(\"Not quite, don't forget to reduce.\")\n",
    "        else:\n",
    "            print(\"Sorry, try again (and it was not a reducing error)\")\n",
    "\n",
    "b.observe(check, 'value')"
   ]
  },
  {
   "cell_type": "markdown",
   "metadata": {},
   "source": [
    "$$\\hskip-60pt\\frac{2}{3} \\times \\frac{9}{10} = \\frac{\\color{Purple}{c}}{\\color{Green}{d}}$$"
   ]
  },
  {
   "cell_type": "code",
   "execution_count": 8,
   "metadata": {},
   "outputs": [
    {
     "data": {
      "application/vnd.jupyter.widget-view+json": {
       "model_id": "2bfa6693b9704b1fbc6a1e78a1a91d7a",
       "version_major": 2,
       "version_minor": 0
      },
      "text/html": [
       "<p>Failed to display Jupyter Widget of type <code>IntText</code>.</p>\n",
       "<p>\n",
       "  If you're reading this message in the Jupyter Notebook or JupyterLab Notebook, it may mean\n",
       "  that the widgets JavaScript is still loading. If this message persists, it\n",
       "  likely means that the widgets JavaScript library is either not installed or\n",
       "  not enabled. See the <a href=\"https://ipywidgets.readthedocs.io/en/stable/user_install.html\">Jupyter\n",
       "  Widgets Documentation</a> for setup instructions.\n",
       "</p>\n",
       "<p>\n",
       "  If you're reading this message in another frontend (for example, a static\n",
       "  rendering on GitHub or <a href=\"https://nbviewer.jupyter.org/\">NBViewer</a>),\n",
       "  it may mean that your frontend doesn't currently support widgets.\n",
       "</p>\n"
      ],
      "text/plain": [
       "IntText(value=0, description='c =')"
      ]
     },
     "metadata": {},
     "output_type": "display_data"
    }
   ],
   "source": [
    "c = widgets.IntText(value=0, description='c =', disabled=False)\n",
    "\n",
    "IPython.display.display(c)\n",
    "def check(q):\n",
    "    IPython.display.clear_output(wait=False)\n",
    "    IPython.display.display(c)\n",
    "    if c.value == 3:\n",
    "        print(\"That's right! Great work!\")\n",
    "    else:\n",
    "        if c.value == 0:\n",
    "            pass\n",
    "        if c.value == 18 or c.value == 9 or c.value == 6:\n",
    "            print(\"Not quite, don't forget to reduce.\")\n",
    "        else:\n",
    "            print(\"Sorry, try again (and it was not a reducing error)\")\n",
    "\n",
    "c.observe(check, 'value')"
   ]
  },
  {
   "cell_type": "code",
   "execution_count": 9,
   "metadata": {},
   "outputs": [
    {
     "data": {
      "application/vnd.jupyter.widget-view+json": {
       "model_id": "73315ee7e9cb48e594e01d8f112cc5eb",
       "version_major": 2,
       "version_minor": 0
      },
      "text/html": [
       "<p>Failed to display Jupyter Widget of type <code>IntText</code>.</p>\n",
       "<p>\n",
       "  If you're reading this message in the Jupyter Notebook or JupyterLab Notebook, it may mean\n",
       "  that the widgets JavaScript is still loading. If this message persists, it\n",
       "  likely means that the widgets JavaScript library is either not installed or\n",
       "  not enabled. See the <a href=\"https://ipywidgets.readthedocs.io/en/stable/user_install.html\">Jupyter\n",
       "  Widgets Documentation</a> for setup instructions.\n",
       "</p>\n",
       "<p>\n",
       "  If you're reading this message in another frontend (for example, a static\n",
       "  rendering on GitHub or <a href=\"https://nbviewer.jupyter.org/\">NBViewer</a>),\n",
       "  it may mean that your frontend doesn't currently support widgets.\n",
       "</p>\n"
      ],
      "text/plain": [
       "IntText(value=0, description='d =')"
      ]
     },
     "metadata": {},
     "output_type": "display_data"
    }
   ],
   "source": [
    "d = widgets.IntText(value=0, description='d =', disabled=False)\n",
    "\n",
    "IPython.display.display(d)\n",
    "def check(q):\n",
    "    IPython.display.clear_output(wait=False)\n",
    "    IPython.display.display(d)\n",
    "    if d.value == 5:\n",
    "        print(\"That's right! Great work!\")\n",
    "    else:\n",
    "        if d.value == 0:\n",
    "            pass\n",
    "        if d.value == 30 or d.value == 15 or d.value == 10:\n",
    "            print(\"Not quite, don't forget to reduce.\")\n",
    "        else:\n",
    "            print(\"Sorry, try again (and it was not a reducing error)\")\n",
    "\n",
    "d.observe(check, 'value')"
   ]
  },
  {
   "cell_type": "markdown",
   "metadata": {},
   "source": [
    "# Dividing Positive Fractions\n",
    "\n",
    "### How do we divide using fractions?\n",
    "\n",
    "If you know how to multiply fractions, then you already know how to divide fractions! \n",
    "\n",
    "Let's go back to dividing integers,or whole numbers. We know that 10 divided by 2 is 5, because 10 can be split into 2 portions each of which has 5. Now notice that dividing 10 by 2 is the same as taking half of 10. That is,\n",
    "$$\\hskip-60pt 10\\div 2 = 10\\times \\frac12 = 5.$$\n",
    "\n",
    "\n",
    "Notice that in the equality $10 \\div 2 = 10\\times\\frac{1}{2}$, we took the reciprocal of the second number ($\\frac{2}{1} \\rightarrow \\frac{1}{2}$) then changed the division to multiplication! What is the reciprocal? It's when the old numerator becomes the new denominator and the old denominator becomes the new numerator!\n",
    "\n",
    "That's how division with fractions works too: flip the divisor, the number after the division, and then multiply! \n",
    "\n",
    "## The golden rule of division: *division is the same as multiplying by the reciprocal*\n",
    "\n",
    "For example, what is $10\\div \\frac{1}{3}$? If we apply the rule we just came up with, we find\n",
    "$$\\hskip-60pt 10\\div \\frac13 = 10\\times\\frac31 = 10\\times 3 = 30.$$\n",
    "\n",
    "Does this make sense? Recall that when we compute $10\\div 2=5$, what we're working out is the number of groups of 2 we need to make 10. Similarly, the expression $10\\div \\frac13$ is asking how many $\\frac{1}{3}$ pieces can fit into 10 pieces. Since it takes 3 $\\frac{1}{3}$s to make one and 10 ones to make 10, we need $3\\times 10 = 30$ pieces of size $\\frac{1}{3}$ to make 10, therefore $10 \\div \\frac{1}{3} = 10 \\times 3 = 30$.\n",
    "\n",
    "#### Here are the steps\n",
    "\n",
    "##### Step 1:\n",
    "Find the reciprocal of the divisor. (By making the numerator the denominator and the denominator the numerator of the second fraction.)\n",
    "\n",
    "##### Step 2:\n",
    "Follow the steps to multiply the fractions using either method mentioned earlier.\n",
    "\n",
    "##### And you're done!\n",
    "\n",
    "<font color='red'>Tip! To remmeber these steps to divide fractions, think of this:</font>\n",
    ">**KFC**: \n",
    ">\n",
    ">**K** is for **K**eep the first fraction the same\n",
    ">\n",
    ">**F** is for **F**lip the second fraction\n",
    ">\n",
    ">**C** is for **C**hange the sign from divide to multiply\n",
    "\n",
    "### But why does this work?\n",
    "\n",
    "Remember that division is the opposite of multiplication: dividing by a number \"undoes\" multiplication by that same number. This has a special name, division is the *inverse operation* of multiplication. Here, we are interested in undoing multiplication by fractions. Let's start with an integer example. Consider the multiplication of 10 by 4: $10 \\times 4 = 40$. To undo the multiplication by 4, we divide by 4: $40 \\div 4 = 10$ and we get back to the original number! Same goes for fractions: consider the product $20 \\times \\frac{1}{2} = 10$. Dividing by $\\frac12$ should undo the multiplication. Our rule for division says that to divide by $\\frac{1}{2}$, we multiply by $\\frac21 = 2$: $10 \\div \\frac{1}{2} = 10\\times 2 = 20$. Once again, we get back to the original number!\n",
    "\n",
    "If dividing by 4 is equivalent to multiplying by $\\frac{1}{4}$, then it's true that dividing by $\\frac{1}{4}$ is equivalent to multiplying by 4. \n",
    "\n",
    "What if you flip the first number instead of the second? Try it with an example we've alredy solved. Does it change the answer or does the order not matter like multiplication?\n",
    "\n",
    "### But isn't division supposed to make the number smaller?\n",
    "\n",
    "The short answer is, \"Yes, but only if the number we're dividing by is bigger than 1.\" Try thinking of division as repeated subtraction: $2 \\div \\frac{1}{2}$ is asking how many times can we subtract $\\frac{1}{2}$ from 2. \n",
    "\n",
    "$$\\hskip-60pt \\begin{align*}\n",
    "2 - \\frac{1}{2} &= 1\\frac{1}{2}\\tag{once}\\\\[5pt]\n",
    "1\\frac{1}{2} - \\frac{1}{2} &= 1\\tag{twice}\\\\[5pt]\n",
    "1 - \\frac{1}{2} &= \\frac{1}{2}\\tag{three times}\\\\[5pt]\n",
    "\\frac{1}{2} - \\frac{1}{2} &= 0\\tag{four times}\n",
    "\\end{align*}$$\n",
    "\n",
    "So it took 4 subtractions of $\\frac{1}{2}$ from 2 to reach 0, therefore $2 \\div \\frac{1}{2} = 4$.\n",
    "\n",
    "This is because we are taking smaller portions out of the original number, so we need more subtractions to get to zero.\n"
   ]
  },
  {
   "cell_type": "markdown",
   "metadata": {},
   "source": [
    "Here's another example. In this example, we perform division by multiplying by the reciprocal, and we use Method #2, reducing our fractions before carrying out the multiplication.\n",
    "<br>\n",
    "$$\\hskip-36pt\\large \\frac14\\div\\frac38 = \\frac14\\times\\frac83 = \\frac{1}{_{\\color{red}{1}}\\,4\\!\\!\\!\\!\\diagup}\\times\\frac{8\\!\\!\\!\\!\\diagup^{\\,\\,\\color{red}{2}}}{3} = \\frac23.$$"
   ]
  },
  {
   "cell_type": "markdown",
   "metadata": {},
   "source": [
    "Still need another explanation? Here's a video that might help:"
   ]
  },
  {
   "cell_type": "code",
   "execution_count": 10,
   "metadata": {},
   "outputs": [
    {
     "data": {
      "text/html": [
       "<iframe width=\"560\" height=\"315\" src=\"https://www.youtube.com/embed/f3ySpxX9oeM?rel=0\" frameborder=\"0\" allow=\"autoplay; encrypted-media\" allowfullscreen></iframe>"
      ],
      "text/plain": [
       "<IPython.core.display.HTML object>"
      ]
     },
     "execution_count": 10,
     "metadata": {},
     "output_type": "execute_result"
    }
   ],
   "source": [
    "from IPython.display import HTML\n",
    "HTML('<iframe width=\"560\" height=\"315\" src=\"https://www.youtube.com/embed/f3ySpxX9oeM?rel=0\" frameborder=\"0\" allow=\"autoplay; encrypted-media\" allowfullscreen></iframe>')"
   ]
  },
  {
   "cell_type": "markdown",
   "metadata": {},
   "source": [
    "### Let's go through an example:\n",
    "\n",
    "$$\\hskip-60pt\\begin{align*}\n",
    "\\color{blue}{\\frac{4}{5} \\div \\frac{2}{7}}\\\\\n",
    "\\frac{4}{5} \\div \\frac{2}{7} & = \\frac{4}{5} \\times \\frac{7}{2} \\tag{Invert the divisor}\\\\\n",
    "\\frac{4\\!\\!\\!\\diagup}{5} \\times \\frac{7}{2\\!\\!\\!\\diagup} & = \\frac{2}{5} \\times \\frac{7}{1} \\tag{Reduce numbers}\\\\\n",
    "\\frac{2}{5} \\times \\frac{7}{1} & = \\frac{14}{5} \\tag{Mulitply numerators and denomitators}\\\\\n",
    "\\frac{14}{5} & = 2 \\frac{4}{5} \\tag{Write as a mixed fraction}\n",
    "\\end{align*}$$"
   ]
  },
  {
   "cell_type": "markdown",
   "metadata": {},
   "source": [
    "Here's a fill in the blank question. Please read which numbers need to be filled out correctly, and then enter the correct values below.\n",
    "\n",
    "$$\\hskip-60pt\\frac{2}{3} \\div \\frac{5}{7} = \\frac{2}{3} \\times \\frac{\\color{Blue}{A}}{\\color{Green}{B}} = \\frac{\\color{Purple}{C}}{\\color{Red}{D}}$$"
   ]
  },
  {
   "cell_type": "code",
   "execution_count": 11,
   "metadata": {},
   "outputs": [
    {
     "data": {
      "application/vnd.jupyter.widget-view+json": {
       "model_id": "c28ab91ed86a44518c2624ae2598dd1b",
       "version_major": 2,
       "version_minor": 0
      },
      "text/html": [
       "<p>Failed to display Jupyter Widget of type <code>IntText</code>.</p>\n",
       "<p>\n",
       "  If you're reading this message in the Jupyter Notebook or JupyterLab Notebook, it may mean\n",
       "  that the widgets JavaScript is still loading. If this message persists, it\n",
       "  likely means that the widgets JavaScript library is either not installed or\n",
       "  not enabled. See the <a href=\"https://ipywidgets.readthedocs.io/en/stable/user_install.html\">Jupyter\n",
       "  Widgets Documentation</a> for setup instructions.\n",
       "</p>\n",
       "<p>\n",
       "  If you're reading this message in another frontend (for example, a static\n",
       "  rendering on GitHub or <a href=\"https://nbviewer.jupyter.org/\">NBViewer</a>),\n",
       "  it may mean that your frontend doesn't currently support widgets.\n",
       "</p>\n"
      ],
      "text/plain": [
       "IntText(value=0, description='A =')"
      ]
     },
     "metadata": {},
     "output_type": "display_data"
    }
   ],
   "source": [
    "A = widgets.IntText(value=0, description='A =', disabled=False)\n",
    "\n",
    "def check(q):\n",
    "    IPython.display.clear_output(wait=False)\n",
    "    IPython.display.display(A)\n",
    "    if A.value == 7:\n",
    "        print(\"That's right! Great work!\")\n",
    "    else:\n",
    "        if A.value == 0:\n",
    "            pass\n",
    "        else:\n",
    "            print(\"Sorry, try again.\")\n",
    "            \n",
    "IPython.display.display(A) \n",
    "A.observe(check, 'value')"
   ]
  },
  {
   "cell_type": "code",
   "execution_count": 12,
   "metadata": {},
   "outputs": [
    {
     "data": {
      "application/vnd.jupyter.widget-view+json": {
       "model_id": "d694789ac3914fd7a194c2206ce0d9e8",
       "version_major": 2,
       "version_minor": 0
      },
      "text/html": [
       "<p>Failed to display Jupyter Widget of type <code>IntText</code>.</p>\n",
       "<p>\n",
       "  If you're reading this message in the Jupyter Notebook or JupyterLab Notebook, it may mean\n",
       "  that the widgets JavaScript is still loading. If this message persists, it\n",
       "  likely means that the widgets JavaScript library is either not installed or\n",
       "  not enabled. See the <a href=\"https://ipywidgets.readthedocs.io/en/stable/user_install.html\">Jupyter\n",
       "  Widgets Documentation</a> for setup instructions.\n",
       "</p>\n",
       "<p>\n",
       "  If you're reading this message in another frontend (for example, a static\n",
       "  rendering on GitHub or <a href=\"https://nbviewer.jupyter.org/\">NBViewer</a>),\n",
       "  it may mean that your frontend doesn't currently support widgets.\n",
       "</p>\n"
      ],
      "text/plain": [
       "IntText(value=0, description='B =')"
      ]
     },
     "metadata": {},
     "output_type": "display_data"
    }
   ],
   "source": [
    "B = widgets.IntText(value=0, description='B =', disabled=False)\n",
    "\n",
    "def check(q):\n",
    "    IPython.display.clear_output(wait=False)\n",
    "    IPython.display.display(B)\n",
    "    if B.value == 5:\n",
    "        print(\"That's right! Great work!\")\n",
    "    else:\n",
    "        if B.value == 0:\n",
    "            pass\n",
    "        else:\n",
    "            print(\"Sorry, try again.\")\n",
    "            \n",
    "IPython.display.display(B)\n",
    "B.observe(check, 'value')"
   ]
  },
  {
   "cell_type": "code",
   "execution_count": 13,
   "metadata": {},
   "outputs": [
    {
     "data": {
      "application/vnd.jupyter.widget-view+json": {
       "model_id": "e4fd5c45801549ccaed7095e072a1844",
       "version_major": 2,
       "version_minor": 0
      },
      "text/html": [
       "<p>Failed to display Jupyter Widget of type <code>IntText</code>.</p>\n",
       "<p>\n",
       "  If you're reading this message in the Jupyter Notebook or JupyterLab Notebook, it may mean\n",
       "  that the widgets JavaScript is still loading. If this message persists, it\n",
       "  likely means that the widgets JavaScript library is either not installed or\n",
       "  not enabled. See the <a href=\"https://ipywidgets.readthedocs.io/en/stable/user_install.html\">Jupyter\n",
       "  Widgets Documentation</a> for setup instructions.\n",
       "</p>\n",
       "<p>\n",
       "  If you're reading this message in another frontend (for example, a static\n",
       "  rendering on GitHub or <a href=\"https://nbviewer.jupyter.org/\">NBViewer</a>),\n",
       "  it may mean that your frontend doesn't currently support widgets.\n",
       "</p>\n"
      ],
      "text/plain": [
       "IntText(value=0, description='C =')"
      ]
     },
     "metadata": {},
     "output_type": "display_data"
    }
   ],
   "source": [
    "C = widgets.IntText(value=0, description='C =', disabled=False)\n",
    "\n",
    "def check(q):\n",
    "    IPython.display.clear_output(wait=False)\n",
    "    IPython.display.display(C)\n",
    "    if C.value == 14:\n",
    "        print(\"That's right! Great work!\")\n",
    "    else:\n",
    "        if C.value == 0:\n",
    "            pass\n",
    "        else:\n",
    "            print(\"Sorry, try again.\")\n",
    "            \n",
    "IPython.display.display(C)\n",
    "C.observe(check, 'value')"
   ]
  },
  {
   "cell_type": "code",
   "execution_count": 14,
   "metadata": {},
   "outputs": [
    {
     "data": {
      "application/vnd.jupyter.widget-view+json": {
       "model_id": "93596635940b43098614677c6fa0d50e",
       "version_major": 2,
       "version_minor": 0
      },
      "text/html": [
       "<p>Failed to display Jupyter Widget of type <code>IntText</code>.</p>\n",
       "<p>\n",
       "  If you're reading this message in the Jupyter Notebook or JupyterLab Notebook, it may mean\n",
       "  that the widgets JavaScript is still loading. If this message persists, it\n",
       "  likely means that the widgets JavaScript library is either not installed or\n",
       "  not enabled. See the <a href=\"https://ipywidgets.readthedocs.io/en/stable/user_install.html\">Jupyter\n",
       "  Widgets Documentation</a> for setup instructions.\n",
       "</p>\n",
       "<p>\n",
       "  If you're reading this message in another frontend (for example, a static\n",
       "  rendering on GitHub or <a href=\"https://nbviewer.jupyter.org/\">NBViewer</a>),\n",
       "  it may mean that your frontend doesn't currently support widgets.\n",
       "</p>\n"
      ],
      "text/plain": [
       "IntText(value=0, description='D =')"
      ]
     },
     "metadata": {},
     "output_type": "display_data"
    }
   ],
   "source": [
    "D = widgets.IntText(value=0, description='D =', disabled=False)\n",
    "\n",
    "def check(q):\n",
    "    IPython.display.clear_output(wait=False)\n",
    "    IPython.display.display(D)\n",
    "    if D.value == 15:\n",
    "        print(\"That's right! Great work!\")\n",
    "    else:\n",
    "        if D.value == 0:\n",
    "            pass\n",
    "        else:\n",
    "            print(\"Sorry, try again.\")\n",
    "            \n",
    "IPython.display.display(D)\n",
    "D.observe(check, 'value')"
   ]
  },
  {
   "cell_type": "markdown",
   "metadata": {},
   "source": [
    "Here's another fill in the blank question. Please read which numbers need to be filled out correctly. <br>\n",
    "Note: there is a reduction in this one!\n",
    "\n",
    "$$\\hskip-60pt\\frac{4}{9} \\div \\frac{5}{3} = \\frac{4}{9} \\times \\frac{3}{5} = \\frac{4}{\\color{Blue}{E}} \\times \\frac{\\color{Green}{F}}{5} = \\frac{\\color{Purple}{G}}{\\color{Red}{H}}$$"
   ]
  },
  {
   "cell_type": "code",
   "execution_count": 15,
   "metadata": {},
   "outputs": [
    {
     "data": {
      "application/vnd.jupyter.widget-view+json": {
       "model_id": "b6fa1e9da53f4697a5b307289367f492",
       "version_major": 2,
       "version_minor": 0
      },
      "text/html": [
       "<p>Failed to display Jupyter Widget of type <code>IntText</code>.</p>\n",
       "<p>\n",
       "  If you're reading this message in the Jupyter Notebook or JupyterLab Notebook, it may mean\n",
       "  that the widgets JavaScript is still loading. If this message persists, it\n",
       "  likely means that the widgets JavaScript library is either not installed or\n",
       "  not enabled. See the <a href=\"https://ipywidgets.readthedocs.io/en/stable/user_install.html\">Jupyter\n",
       "  Widgets Documentation</a> for setup instructions.\n",
       "</p>\n",
       "<p>\n",
       "  If you're reading this message in another frontend (for example, a static\n",
       "  rendering on GitHub or <a href=\"https://nbviewer.jupyter.org/\">NBViewer</a>),\n",
       "  it may mean that your frontend doesn't currently support widgets.\n",
       "</p>\n"
      ],
      "text/plain": [
       "IntText(value=0, description='E =')"
      ]
     },
     "metadata": {},
     "output_type": "display_data"
    }
   ],
   "source": [
    "E = widgets.IntText(value=0, description='E =', disabled=False)\n",
    "\n",
    "def check(q):\n",
    "    IPython.display.clear_output(wait=False)\n",
    "    IPython.display.display(E)\n",
    "    if E.value == 3:\n",
    "        print(\"That's right! Great work!\")\n",
    "    else:\n",
    "        if E.value == 0:\n",
    "            pass\n",
    "        if E.value == 9:\n",
    "            print(\"Don't forget to reduce.\")\n",
    "        else:\n",
    "            print(\"Sorry, try again.\")\n",
    "            \n",
    "IPython.display.display(E) \n",
    "E.observe(check, 'value')"
   ]
  },
  {
   "cell_type": "code",
   "execution_count": 16,
   "metadata": {},
   "outputs": [
    {
     "data": {
      "application/vnd.jupyter.widget-view+json": {
       "model_id": "f0ebaa970ad241b3830f22c16f4c937f",
       "version_major": 2,
       "version_minor": 0
      },
      "text/html": [
       "<p>Failed to display Jupyter Widget of type <code>IntText</code>.</p>\n",
       "<p>\n",
       "  If you're reading this message in the Jupyter Notebook or JupyterLab Notebook, it may mean\n",
       "  that the widgets JavaScript is still loading. If this message persists, it\n",
       "  likely means that the widgets JavaScript library is either not installed or\n",
       "  not enabled. See the <a href=\"https://ipywidgets.readthedocs.io/en/stable/user_install.html\">Jupyter\n",
       "  Widgets Documentation</a> for setup instructions.\n",
       "</p>\n",
       "<p>\n",
       "  If you're reading this message in another frontend (for example, a static\n",
       "  rendering on GitHub or <a href=\"https://nbviewer.jupyter.org/\">NBViewer</a>),\n",
       "  it may mean that your frontend doesn't currently support widgets.\n",
       "</p>\n"
      ],
      "text/plain": [
       "IntText(value=0, description='F =')"
      ]
     },
     "metadata": {},
     "output_type": "display_data"
    }
   ],
   "source": [
    "F = widgets.IntText(value=0, description='F =', disabled=False)\n",
    "\n",
    "def check(q):\n",
    "    IPython.display.clear_output(wait=False)\n",
    "    IPython.display.display(F)\n",
    "    if F.value == 1:\n",
    "        print(\"That's right! Great work!\")\n",
    "    else:\n",
    "        if F.value == 0:\n",
    "            pass\n",
    "        if F.value == 3:\n",
    "            print(\"Don't forget to reduce.\")\n",
    "        else:\n",
    "            print(\"Sorry, try again.\")\n",
    "            \n",
    "IPython.display.display(F) \n",
    "F.observe(check, 'value')"
   ]
  },
  {
   "cell_type": "code",
   "execution_count": 17,
   "metadata": {},
   "outputs": [
    {
     "data": {
      "application/vnd.jupyter.widget-view+json": {
       "model_id": "39709352ef484f43b79527a1b3a78d70",
       "version_major": 2,
       "version_minor": 0
      },
      "text/html": [
       "<p>Failed to display Jupyter Widget of type <code>IntText</code>.</p>\n",
       "<p>\n",
       "  If you're reading this message in the Jupyter Notebook or JupyterLab Notebook, it may mean\n",
       "  that the widgets JavaScript is still loading. If this message persists, it\n",
       "  likely means that the widgets JavaScript library is either not installed or\n",
       "  not enabled. See the <a href=\"https://ipywidgets.readthedocs.io/en/stable/user_install.html\">Jupyter\n",
       "  Widgets Documentation</a> for setup instructions.\n",
       "</p>\n",
       "<p>\n",
       "  If you're reading this message in another frontend (for example, a static\n",
       "  rendering on GitHub or <a href=\"https://nbviewer.jupyter.org/\">NBViewer</a>),\n",
       "  it may mean that your frontend doesn't currently support widgets.\n",
       "</p>\n"
      ],
      "text/plain": [
       "IntText(value=0, description='G =')"
      ]
     },
     "metadata": {},
     "output_type": "display_data"
    }
   ],
   "source": [
    "G = widgets.IntText(value=0, description='G =', disabled=False)\n",
    "\n",
    "def check(q):\n",
    "    IPython.display.clear_output(wait=False)\n",
    "    IPython.display.display(G)\n",
    "    if G.value == 4:\n",
    "        print(\"That's right! Great work!\")\n",
    "    else:\n",
    "        if G.value == 0:\n",
    "            pass\n",
    "        else:\n",
    "            print(\"Sorry, try again.\")\n",
    "            \n",
    "IPython.display.display(G) \n",
    "G.observe(check, 'value')"
   ]
  },
  {
   "cell_type": "code",
   "execution_count": 18,
   "metadata": {},
   "outputs": [
    {
     "data": {
      "application/vnd.jupyter.widget-view+json": {
       "model_id": "3b1a6fac219f4c1da1f7e5d628fdec3f",
       "version_major": 2,
       "version_minor": 0
      },
      "text/html": [
       "<p>Failed to display Jupyter Widget of type <code>IntText</code>.</p>\n",
       "<p>\n",
       "  If you're reading this message in the Jupyter Notebook or JupyterLab Notebook, it may mean\n",
       "  that the widgets JavaScript is still loading. If this message persists, it\n",
       "  likely means that the widgets JavaScript library is either not installed or\n",
       "  not enabled. See the <a href=\"https://ipywidgets.readthedocs.io/en/stable/user_install.html\">Jupyter\n",
       "  Widgets Documentation</a> for setup instructions.\n",
       "</p>\n",
       "<p>\n",
       "  If you're reading this message in another frontend (for example, a static\n",
       "  rendering on GitHub or <a href=\"https://nbviewer.jupyter.org/\">NBViewer</a>),\n",
       "  it may mean that your frontend doesn't currently support widgets.\n",
       "</p>\n"
      ],
      "text/plain": [
       "IntText(value=0, description='H =')"
      ]
     },
     "metadata": {},
     "output_type": "display_data"
    }
   ],
   "source": [
    "H = widgets.IntText(value=0, description='H =', disabled=False)\n",
    "\n",
    "def check(q):\n",
    "    IPython.display.clear_output(wait=False)\n",
    "    IPython.display.display(H)\n",
    "    if H.value == 15:\n",
    "        print(\"That's right! Great work!\")\n",
    "    else:\n",
    "        if H.value == 0:\n",
    "            pass\n",
    "        else:\n",
    "            print(\"Sorry, try again.\")\n",
    "            \n",
    "IPython.display.display(H) \n",
    "H.observe(check, 'value')"
   ]
  },
  {
   "cell_type": "markdown",
   "metadata": {},
   "source": [
    "## Multiplication and Division with Positive Mixed Fractions\n",
    "\n",
    "With mixed numbers, we have to do a little more work, but it's only one more step:\n",
    "\n",
    "### For multiplication and division, all mixed numbers must be converted to improper fractions.\n",
    "\n",
    "**This notebook is assuming that you already know how to convert between mixed numbers and improper fractions**\n",
    "\n",
    "Remember that a mixed number is really adding an integer and a proper fraction: $3\\,\\frac14$ is really $3+\\frac14$ as one number. A proper fraction is where the numerator is less than the denominator. An improper fraction is where the numerator is bigger than or equal to the denominator.\n",
    "\n",
    "For example, consider the product $\\frac45\\times 3\\,\\frac14$. So one way to carry out the product is to use the distributive property:\n",
    "\n",
    "$$\\hskip-60pt\\begin{align*}\n",
    "\\frac45 \\times 3\\,\\frac14 &= \\frac45(3+\\frac14)\\\\\n",
    "& = \\frac45\\times 3+\\frac45\\times\\frac14\\\\\n",
    "&= \\frac{12}{5}+\\frac15\\\\\n",
    "&= \\frac{13}{5}.\n",
    "\\end{align*}$$\n",
    "\n",
    "(Note that we've made use of two skills practised above, without writing them down: we multiplied by 3 by thinking of it as the fraction $\\frac31$, and we cancelled the fours in the product $\\frac45\\times \\frac14$.)\n",
    "\n",
    "If it is asked for, we can do one final step, and convert back to a mixed fraction: $\\dfrac{13}{5} = 2\\,\\dfrac{3}{5}$. But that was quite a bit of work. *There must be a better way!* \n",
    "\n",
    "Instead, let's first convert our mixed number to an improper fraction:\n",
    "\n",
    "$$3\\,\\frac14 = 3+\\frac14 = 3\\times\\frac44+\\frac14 = \\frac{12}{4}+\\frac{1}{4} = \\frac{13}{4}.$$\n",
    "\n",
    "Now we can multiply using the methods we learned above:\n",
    "\n",
    "$$\\frac45\\times 3\\,\\frac14 = \\frac45\\times\\frac{13}{4} = \\frac15\\times\\frac{13}{1}=\\frac{13}{5},$$\n",
    "\n",
    "as before. If specified in the problem (or by your teacher), you can take one more step and convert the improper fraction $\\frac{13}{5}$ into the mixed number $2\\,\\frac35$.\n",
    "<br>\n",
    "\n",
    "Let's review the steps:\n",
    "\n",
    "##### Step 1:\n",
    "$\\color{red}{\\textrm{Convert all mixed numbers into improper fractions.}}$\n",
    "\n",
    "##### Step 2:\n",
    "Multiply or divide as using the methods earlier.\n",
    "\n",
    "##### Step 3: (Optional?)\n",
    "If the result is an improper fraction, convert it back to a mixed number.\n",
    "\n",
    "##### And you're done!\n",
    "\n",
    "### Let's do some examples!\n",
    "\n",
    "1. Calculate the product $\\color{blue}{2 \\dfrac{2}{3} \\times 1 \\dfrac{3}{4}}$.<br><br>\n",
    "$$\\hskip-60pt\\begin{align*}\n",
    "2 \\frac{2}{3} \\times 1 \\frac{3}{4} & = \\frac{8}{3} \\times \\frac{7}{4} \\tag{Convert to improper fractions}\\\\[5pt]\n",
    "\\frac{8\\!\\!\\!\\diagup}{3} \\times \\frac{7}{4\\!\\!\\!\\diagup} & = \\frac{2}{3} \\times \\frac{7}{1} \\tag{Reduce numbers}\\\\[5pt]\n",
    "\\frac{2}{3} \\times \\frac{7}{1} & = \\frac{14}{3} \\tag{Mulitply numerators and denomitators}\\\\[5pt]\n",
    "\\frac{14}{3} & = 4 \\frac{2}{3} \\tag{Write as a mixed fraction}\n",
    "\\end{align*}$$<br>\n",
    "2. Calculate the quotient $\\color{blue}{2 \\dfrac{2}{3} \\div 1 \\dfrac{3}{4}}$. (These are the same fractions as the first example.)<br><br>\n",
    "$$\\hskip-60pt\\begin{align*}\n",
    "2 \\frac{2}{3} \\div 1 \\frac{3}{4} & = \\frac{8}{3} \\div \\frac{7}{4} \\tag{Convert to improper fractions}\\\\[5pt]\n",
    "\\frac{8}{3} \\div \\frac{7}{4} & = \\frac{8}{3} \\times \\frac{4}{7} \\tag{Invert the divisor}\\\\[5pt]\n",
    "\\frac{8}{3} \\times \\frac{4}{7} & = \\frac{32}{21} \\tag{Mulitply numerators and denomitators}\\\\[5pt]\n",
    "\\frac{32}{21} & = 1 \\frac{11}{21} \\tag{Write as a mixed fraction}\n",
    "\\end{align*}$$<br>\n",
    "3. Calculate the quotient $\\color{blue}{3 \\frac{1}{2} \\div 1 \\frac{1}{6}}$. (This time some reduction is required.)<br><br>\n",
    "$$\\hskip-60pt\\begin{align*}\n",
    "3 \\frac{1}{2} \\div 1 \\frac{1}{6} & = \\frac{7}{2} \\div \\frac{7}{6} \\tag{Convert to improper fractions}\\\\[5pt]\n",
    "\\frac{7}{2} \\div \\frac{7}{6} & = \\frac{7}{2} \\times \\frac{6}{7} \\tag{Invert the divisor}\\\\[5pt]\n",
    "\\frac{7\\!\\!\\!\\diagup}{2} \\times \\frac{6}{7\\!\\!\\!\\diagup} & = \\frac{1}{2} \\times \\frac{6}{1} \\tag{Reduce numbers}\\\\[5pt]\n",
    "\\frac{1}{2\\!\\!\\!\\diagup} \\times \\frac{6\\!\\!\\!\\diagup}{1} & = \\frac{1}{1} \\times \\frac{3}{1} \\tag{Reduce numbers again}\\\\[5pt]\n",
    "\\frac{1}{1} \\times \\frac{3}{1} & = \\frac{3}{1} \\tag{Mulitply numerators and denomitators}\\\\[5pt]\n",
    "\\frac{3}{1} & = 3 \\tag{Write as an integer}\n",
    "\\end{align*}$$"
   ]
  },
  {
   "cell_type": "markdown",
   "metadata": {},
   "source": [
    "### Practice Questions\n",
    "\n",
    "Now that you've seen a few examples, it's time to try some on your own. But remember: two problems worth of practice is not enough to master this skill. Make sure you take the time to work through additional problems from your teacher or textbook.\n",
    "\n",
    "Grab some extra paper and a pencil to go through the steps in this notebook to find the answer, then check to see if you're right.\n",
    "\n",
    "##### Question 1\n",
    "\n",
    "$2\\frac{1}{2} \\times 1\\frac{1}{2}$"
   ]
  },
  {
   "cell_type": "code",
   "execution_count": 19,
   "metadata": {},
   "outputs": [
    {
     "data": {
      "application/vnd.jupyter.widget-view+json": {
       "model_id": "d7423b089d6647af9896b62b06bb07e5",
       "version_major": 2,
       "version_minor": 0
      },
      "text/html": [
       "<p>Failed to display Jupyter Widget of type <code>RadioButtons</code>.</p>\n",
       "<p>\n",
       "  If you're reading this message in the Jupyter Notebook or JupyterLab Notebook, it may mean\n",
       "  that the widgets JavaScript is still loading. If this message persists, it\n",
       "  likely means that the widgets JavaScript library is either not installed or\n",
       "  not enabled. See the <a href=\"https://ipywidgets.readthedocs.io/en/stable/user_install.html\">Jupyter\n",
       "  Widgets Documentation</a> for setup instructions.\n",
       "</p>\n",
       "<p>\n",
       "  If you're reading this message in another frontend (for example, a static\n",
       "  rendering on GitHub or <a href=\"https://nbviewer.jupyter.org/\">NBViewer</a>),\n",
       "  it may mean that your frontend doesn't currently support widgets.\n",
       "</p>\n"
      ],
      "text/plain": [
       "RadioButtons(description='Answer', index=1, options=('', '3 3/4', '2 1/4', '4', '1 2/3'), value='3 3/4')"
      ]
     },
     "metadata": {},
     "output_type": "display_data"
    },
    {
     "name": "stdout",
     "output_type": "stream",
     "text": [
      "Correct! Great job!\n"
     ]
    }
   ],
   "source": [
    "from fractions import Fraction\n",
    "\n",
    "answer = widgets.RadioButtons(options=['','3 3/4', '2 1/4','4','1 2/3'],\n",
    "                              value='', description= 'Answer')\n",
    "\n",
    "def check(a):\n",
    "    IPython.display.clear_output(wait=False)\n",
    "    IPython.display.display(answer)\n",
    "    if answer.value == '3 3/4':\n",
    "        print(\"Correct! Great job!\")\n",
    "    else:\n",
    "        if answer.value == '':\n",
    "            pass\n",
    "        else:\n",
    "            print(\"Sorry, that's not right, try again. Don't forget to convert the fraction to an improper fraction.\")\n",
    "\n",
    "IPython.display.display(answer)\n",
    "answer.observe(check, 'value')"
   ]
  },
  {
   "cell_type": "markdown",
   "metadata": {},
   "source": [
    "##### Question 2\n",
    "\n",
    "$3\\frac{1}{3} \\div 2\\frac{1}{6}$"
   ]
  },
  {
   "cell_type": "code",
   "execution_count": 20,
   "metadata": {},
   "outputs": [
    {
     "data": {
      "application/vnd.jupyter.widget-view+json": {
       "model_id": "9a59dce3fad541788a55c2280f2e9a10",
       "version_major": 2,
       "version_minor": 0
      },
      "text/html": [
       "<p>Failed to display Jupyter Widget of type <code>RadioButtons</code>.</p>\n",
       "<p>\n",
       "  If you're reading this message in the Jupyter Notebook or JupyterLab Notebook, it may mean\n",
       "  that the widgets JavaScript is still loading. If this message persists, it\n",
       "  likely means that the widgets JavaScript library is either not installed or\n",
       "  not enabled. See the <a href=\"https://ipywidgets.readthedocs.io/en/stable/user_install.html\">Jupyter\n",
       "  Widgets Documentation</a> for setup instructions.\n",
       "</p>\n",
       "<p>\n",
       "  If you're reading this message in another frontend (for example, a static\n",
       "  rendering on GitHub or <a href=\"https://nbviewer.jupyter.org/\">NBViewer</a>),\n",
       "  it may mean that your frontend doesn't currently support widgets.\n",
       "</p>\n"
      ],
      "text/plain": [
       "RadioButtons(description='Answer', index=3, options=('', '7 2/9', '2 1/2', '1 7/13', '3 1/2'), value='1 7/13')"
      ]
     },
     "metadata": {},
     "output_type": "display_data"
    },
    {
     "name": "stdout",
     "output_type": "stream",
     "text": [
      "Correct! Great job!\n"
     ]
    }
   ],
   "source": [
    "answer2 = widgets.RadioButtons(options=['','7 2/9', '2 1/2','1 7/13','3 1/2'],\n",
    "                              value='', description= 'Answer')\n",
    "\n",
    "def check(a):\n",
    "    IPython.display.clear_output(wait=False)\n",
    "    IPython.display.display(answer2)\n",
    "    if answer2.value == '1 7/13':\n",
    "        print(\"Correct! Great job!\")\n",
    "    else:\n",
    "        if answer.value == '':\n",
    "            pass\n",
    "        else:\n",
    "            print(\"Sorry, that's not right, try again. Don't forget to convert the fraction to an improper fraction and invert the divisor.\")\n",
    "\n",
    "IPython.display.display(answer2)\n",
    "answer2.observe(check, 'value')"
   ]
  },
  {
   "cell_type": "markdown",
   "metadata": {},
   "source": [
    "## Summary\n",
    "\n",
    "Let's review what we've learned in this notebook.\n",
    "\n",
    "- Unlike addition, multiplying fractions *does not* need common denominators. **DM** – **D**ivision/**M**ultiplication = Denominator **D**oesn’t **M**atter \n",
    "- To multiply to fractions, multiply the numerators, then the denominators, and then reduce if necessary.\n",
    "- It is often easier if you cancel common factors before multiplying the fractions.\n",
    "- Division is the inverse of multiplication. Remember the Golden Rule: division is the same as multiplying by the reciprocal! (flipping the numerator and denominator) **KFC** - **K**eep, **F**lip, **C**hange\n",
    "- Multiplication and division involving mixed numbers is easier if you first convert any mixed numbers to improper fractions.\n",
    "\n",
    "Take the time to master your fraction multiplication and division. It may not seem like it now, but this is a much needed skill that you'll rely on for many years to come. Many careers even use fractions on a daily basis, like chefs or construction workers. As always in math, the more you practice, the easier it gets!\n"
   ]
  },
  {
   "cell_type": "markdown",
   "metadata": {},
   "source": [
    "![logo](https://callysto.ca/wp-content/uploads/2018/07/Callysto-Notebook-Banner-Bottom.jpg)"
   ]
  }
 ],
 "metadata": {
  "kernelspec": {
   "display_name": "Python 3",
   "language": "python",
   "name": "python3"
  },
  "language_info": {
   "codemirror_mode": {
    "name": "ipython",
    "version": 3
   },
   "file_extension": ".py",
   "mimetype": "text/x-python",
   "name": "python",
   "nbconvert_exporter": "python",
   "pygments_lexer": "ipython3",
   "version": "3.6.5"
  }
 },
 "nbformat": 4,
 "nbformat_minor": 2
}
